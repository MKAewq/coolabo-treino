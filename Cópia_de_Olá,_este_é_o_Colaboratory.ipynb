{
  "cells": [
    {
      "cell_type": "markdown",
      "metadata": {
        "id": "view-in-github",
        "colab_type": "text"
      },
      "source": [
        "<a href=\"https://colab.research.google.com/github/MKAewq/coolabo-treino/blob/main/C%C3%B3pia_de_Ol%C3%A1%2C_este_%C3%A9_o_Colaboratory.ipynb\" target=\"_parent\"><img src=\"https://colab.research.google.com/assets/colab-badge.svg\" alt=\"Open In Colab\"/></a>"
      ]
    },
    {
      "cell_type": "markdown",
      "source": [],
      "metadata": {
        "id": "_wMKiGgc76HC"
      }
    },
    {
      "cell_type": "code",
      "source": [
        "A =input()\n",
        "B =input()\n",
        "x =int(A)+int(B)\n",
        "print(\"X =\",x);\n",
        "\n"
      ],
      "metadata": {
        "id": "gV9TDuN0Yv7X"
      },
      "execution_count": null,
      "outputs": []
    },
    {
      "cell_type": "markdown",
      "source": [
        "1002\n"
      ],
      "metadata": {
        "id": "dC4otLrSdBum"
      }
    },
    {
      "cell_type": "code",
      "source": [
        "π = 3.14159\n",
        "raio=input()\n",
        "area=π*float(raio)**2\n",
        "print(f'A={area:.4f}')\n"
      ],
      "metadata": {
        "id": "FG-LilCXdEhs"
      },
      "execution_count": null,
      "outputs": []
    },
    {
      "cell_type": "markdown",
      "source": [
        "1003"
      ],
      "metadata": {
        "id": "CAUlppCKhkZp"
      }
    },
    {
      "cell_type": "code",
      "source": [
        "A =input()\n",
        "B =input()\n",
        "SOMA =int(A)+int(B)\n",
        "print(\"SOMA =\",SOMA)"
      ],
      "metadata": {
        "id": "iHfjDFo_hmVa"
      },
      "execution_count": null,
      "outputs": []
    },
    {
      "cell_type": "markdown",
      "source": [
        "1004\n"
      ],
      "metadata": {
        "id": "BEVQxISHiwKa"
      }
    },
    {
      "cell_type": "code",
      "source": [
        "A =input()\n",
        "B =input()\n",
        "PROD =int(A)*int(B)\n",
        "print(\"PROD =\",PROD)"
      ],
      "metadata": {
        "id": "8RMCKcFkixip"
      },
      "execution_count": null,
      "outputs": []
    },
    {
      "cell_type": "markdown",
      "source": [
        "1005"
      ],
      "metadata": {
        "id": "T2b3htY6jVig"
      }
    },
    {
      "cell_type": "code",
      "source": [
        "A =float(input())*3.5\n",
        "B =float(input())*7.5\n",
        "MEDIA =(A+B)/11\n",
        "print(f'MEDIA = {MEDIA:.5f}')\n"
      ],
      "metadata": {
        "id": "8jd9BgU8jWgZ"
      },
      "execution_count": null,
      "outputs": []
    },
    {
      "cell_type": "markdown",
      "source": [
        "1006\n"
      ],
      "metadata": {
        "id": "n1E_T67xlkGT"
      }
    },
    {
      "cell_type": "code",
      "source": [
        "A =float(input())*2\n",
        "B =float(input())*3\n",
        "C =float(input())*5\n",
        "MEDIA =(A+B+C)/10\n",
        "print(f'MEDIA = {MEDIA:.1f}')"
      ],
      "metadata": {
        "id": "cp1EUddDllzD"
      },
      "execution_count": null,
      "outputs": []
    },
    {
      "cell_type": "markdown",
      "source": [
        "1007\n"
      ],
      "metadata": {
        "id": "CNNAEJUXmQH6"
      }
    },
    {
      "cell_type": "code",
      "source": [
        "A=int(input())\n",
        "B=int(input())\n",
        "C=int(input())\n",
        "D=int(input())\n",
        "DIFERENCA =(A*B-C*D)\n",
        "print(\"DIFERENCA =\", DIFERENCA)\n"
      ],
      "metadata": {
        "id": "VtCoomT0mRnr"
      },
      "execution_count": null,
      "outputs": []
    },
    {
      "cell_type": "markdown",
      "source": [
        "1008"
      ],
      "metadata": {
        "id": "mFFCeoD2nsax"
      }
    },
    {
      "cell_type": "code",
      "source": [
        "numero_funcionario=int(input())\n",
        "numero_horas=int(input())\n",
        "valor_hora=float(input())\n",
        "salario= (numero_horas*valor_hora)\n",
        "print(\"NUMBER =\",numero_funcionario)\n",
        "print(f'SALARY = U$ {salario:.2f}')\n",
        "\n",
        "\n"
      ],
      "metadata": {
        "id": "b-NJvYjintht"
      },
      "execution_count": null,
      "outputs": []
    },
    {
      "cell_type": "markdown",
      "source": [
        "1009\n"
      ],
      "metadata": {
        "id": "-Lb9xNNosJOq"
      }
    },
    {
      "cell_type": "code",
      "source": [
        "primeiro_nome_vendedor= input()\n",
        "salario_fixo=float(input())\n",
        "total_vendas=float(input())\n",
        "comissao=total_vendas*0.15\n",
        "total_mes=salario_fixo+comissao\n",
        "print(f'TOTAL = R$ {total_mes:.2f}')\n",
        "\n",
        "\n",
        "\n"
      ],
      "metadata": {
        "id": "1oH5bH-FsLQf"
      },
      "execution_count": null,
      "outputs": []
    },
    {
      "cell_type": "markdown",
      "source": [
        "1010"
      ],
      "metadata": {
        "id": "O4V2_BHD7_RJ"
      }
    },
    {
      "cell_type": "code",
      "source": [
        "valores1=input()\n",
        "valores_splitados=valores1.split(\" \")\n",
        "c1=valores_splitados[0] \n",
        "n1=int(valores_splitados[1])\n",
        "v1=float(valores_splitados[2])\n",
        "total1=n1*v1\n",
        "\n",
        "valores2=input()\n",
        "valores_splitados2=valores2.split(\" \")\n",
        "c2=valores_splitados2[0]\n",
        "n2=int(valores_splitados2[1])\n",
        "v2=float(valores_splitados2[2])\n",
        "total2=n2*v2\n",
        "\n",
        "totaltotal= total1+total2\n",
        "\n",
        "\n",
        "\n",
        "print(f'VALOR A PAGAR: R$ {totaltotal:.2f}')\n",
        "\n",
        "\n",
        "\n",
        "\n",
        "\n"
      ],
      "metadata": {
        "id": "-ai05_fZ8BRP"
      },
      "execution_count": null,
      "outputs": []
    },
    {
      "cell_type": "markdown",
      "source": [
        "1011"
      ],
      "metadata": {
        "id": "igH2tbBoRP_z"
      }
    },
    {
      "cell_type": "code",
      "source": [
        "pi=3.14159\n",
        "R=float(input())\n",
        "volume1=(4.0/3)*(pi*R**3)\n",
        "\n",
        "\n",
        "print(f'VOLUME = {volume1:.3f}' )"
      ],
      "metadata": {
        "id": "lq5PkmhxRRdU"
      },
      "execution_count": null,
      "outputs": []
    },
    {
      "cell_type": "markdown",
      "source": [
        "1012\n"
      ],
      "metadata": {
        "id": "0V2oqOjCYOWc"
      }
    },
    {
      "cell_type": "code",
      "source": [
        "pi = 3.14159\n",
        "valores=input()\n",
        "valores_splitados=valores.split(\" \")\n",
        "A=float(valores_splitados[0])\n",
        "B=float(valores_splitados[1])\n",
        "C=float(valores_splitados[2])\n",
        "\n",
        "triangulo=(A*C)/2\n",
        "circulo=pi*(C**2)\n",
        "trapezio=((A+B)*C)/2\n",
        "quadrado=B**2\n",
        "retangulo=A*B\n",
        "\n",
        "print(f'TRIANGULO: {triangulo:.3f}' )\n",
        "print(f'CIRCULO: {circulo:.3f}' )\n",
        "print(f'TRAPEZIO: {trapezio:.3f}' )\n",
        "print(f'QUADRADO: {quadrado:.3f}' )\n",
        "print(f'RETANGULO: {retangulo:.3f}' )\n",
        "\n",
        "\n"
      ],
      "metadata": {
        "id": "FZnnImUAYPpw"
      },
      "execution_count": null,
      "outputs": []
    },
    {
      "cell_type": "markdown",
      "source": [
        "1013"
      ],
      "metadata": {
        "id": "PIMmib5Cb-9P"
      }
    },
    {
      "cell_type": "code",
      "source": [
        "valores=input()\n",
        "valores_splitados=valores.split(\" \")\n",
        "A=float(valores_splitados[0])\n",
        "B=float(valores_splitados[1])\n",
        "C=float(valores_splitados[2])\n",
        "D=((A+B)+abs(A-B))/2\n",
        "maior=((C+D)+abs(C-D))/2\n",
        "\n",
        "print(int(maior),\"eh o maior\")\n",
        "\n",
        "\n"
      ],
      "metadata": {
        "id": "V0ZfDWfwcp2f"
      },
      "execution_count": null,
      "outputs": []
    },
    {
      "cell_type": "markdown",
      "source": [
        "1014"
      ],
      "metadata": {
        "id": "gxMxzufmiPfk"
      }
    },
    {
      "cell_type": "code",
      "source": [
        "distancia=int(input())\n",
        "gasolina=float(input())\n",
        "media=distancia/gasolina\n",
        "print(f'{media:.3f}',\"km/l\")\n"
      ],
      "metadata": {
        "id": "aJl5AYFGiQ7x"
      },
      "execution_count": null,
      "outputs": []
    },
    {
      "cell_type": "markdown",
      "source": [
        "1015"
      ],
      "metadata": {
        "id": "Kfq-I24xkyb_"
      }
    },
    {
      "cell_type": "code",
      "source": [
        "import math\n",
        "\n",
        "valores=(input())\n",
        "valores_splitados=valores.split(\" \")\n",
        "x1=float(valores_splitados[0])\n",
        "y1=float(valores_splitados[1])\n",
        "\n",
        "valores2=input()\n",
        "valores_splitados2=valores2.split(\" \")\n",
        "x2=float(valores_splitados2[0])\n",
        "y2=float(valores_splitados2[1])\n",
        "\n",
        "Distancia=((x2-x1)**2)+((y2-y1)**2)\n",
        "raiz = math.sqrt(Distancia)\n",
        "print(f'{raiz:.4f}' )\n"
      ],
      "metadata": {
        "id": "306AVaXPkzg6"
      },
      "execution_count": null,
      "outputs": []
    },
    {
      "cell_type": "markdown",
      "source": [
        "1016"
      ],
      "metadata": {
        "id": "ewXiNp5NoZKk"
      }
    },
    {
      "cell_type": "code",
      "source": [
        "d = int(input())\n",
        "t = int(d * 2)\n",
        "print('{} minutos'.format(t))\n",
        "\n",
        "\n",
        "\n"
      ],
      "metadata": {
        "id": "ii8f_rB9oaG1"
      },
      "execution_count": null,
      "outputs": []
    },
    {
      "cell_type": "markdown",
      "source": [
        "1017\n"
      ],
      "metadata": {
        "id": "CbmekrVsNofN"
      }
    },
    {
      "cell_type": "code",
      "source": [
        "tempo=int(input())\n",
        "VM=int(input())\n",
        "distancia=(tempo*VM)/12\n",
        "print(f'{distancia:.3f}' )\n"
      ],
      "metadata": {
        "colab": {
          "base_uri": "https://localhost:8080/"
        },
        "id": "Z4z9w6RPNp2h",
        "outputId": "03b4da3d-97c4-4427-f212-8d390c3ab4e0"
      },
      "execution_count": null,
      "outputs": [
        {
          "output_type": "stream",
          "name": "stdout",
          "text": [
            "10\n",
            "85\n",
            "70.833\n"
          ]
        }
      ]
    },
    {
      "cell_type": "markdown",
      "source": [
        "1018\n"
      ],
      "metadata": {
        "id": "u6ci4x40R1KE"
      }
    },
    {
      "cell_type": "code",
      "source": [
        "n=int(input())\n",
        "print(n)\n",
        "n100=n//100\n",
        "r=n%100\n",
        "\n",
        "n50=r//50\n",
        "r=r%50\n",
        "\n",
        "n20=r//20\n",
        "r=r%20\n",
        "\n",
        "n10=r//10\n",
        "r=r%20\n",
        "\n",
        "n5=r//5\n",
        "r=r%5\n",
        "\n",
        "n2=r//2\n",
        "n1=r%2\n",
        "\n",
        "\n",
        "print(f\"{n100} nota(s) de R$ 100,00\")\n",
        "print(f\"{n50} nota(s) de R$ 50,00\")\n",
        "print(f\"{n20} nota(s) de R$ 20,00\")\n",
        "print(f\"{n10} nota(s) de R$ 10,00\")\n",
        "print(f\"{n5} nota(s) de R$ 5,00\")\n",
        "print(f\"{n2} nota(s) de R$ 2,00\")\n",
        "print(f\"{n1} nota(s) de R$ 1,00\")\n"
      ],
      "metadata": {
        "colab": {
          "base_uri": "https://localhost:8080/"
        },
        "id": "iWZfzViTR2zj",
        "outputId": "75f7bec7-7e40-4111-eb74-06fdb3cfa19e"
      },
      "execution_count": null,
      "outputs": [
        {
          "output_type": "stream",
          "name": "stdout",
          "text": [
            "576\n",
            "576\n",
            "5 nota(s) de R$ 100,00\n",
            "1 nota(s) de R$ 50,00\n",
            "1 nota(s) de R$ 20,00\n",
            "0 nota(s) de R$ 10,00\n",
            "1 nota(s) de R$ 5,00\n",
            "0 nota(s) de R$ 2,00\n",
            "1 nota(s) de R$ 1,00\n"
          ]
        }
      ]
    },
    {
      "cell_type": "markdown",
      "source": [
        "1019"
      ],
      "metadata": {
        "id": "nUJKr6xFKxvA"
      }
    },
    {
      "cell_type": "code",
      "source": [
        "segundos=int(input())\n",
        "\n",
        "horas=segundos//(60*60)\n",
        "segundos=segundos%(60*60)\n",
        "\n",
        "minutos=segundos//(60)\n",
        "segundos=segundos%60\n",
        "\n",
        "print(f\"{horas}:{minutos}:{segundos}\")\n",
        "\n"
      ],
      "metadata": {
        "colab": {
          "base_uri": "https://localhost:8080/"
        },
        "id": "fYz3Er31Ky_J",
        "outputId": "d8b07cf6-30ee-42c7-819b-bbe0f7bc4b71"
      },
      "execution_count": null,
      "outputs": [
        {
          "output_type": "stream",
          "name": "stdout",
          "text": [
            "576\n",
            "0:9:36\n"
          ]
        }
      ]
    },
    {
      "cell_type": "markdown",
      "source": [
        "1020\n"
      ],
      "metadata": {
        "id": "RGvUYJYFRFYN"
      }
    },
    {
      "cell_type": "code",
      "source": [
        "dias=int(input())\n",
        "\n",
        "anos=dias//(365)\n",
        "dias=dias%(365)\n",
        "\n",
        "meses=dias//(30)\n",
        "dias=dias%(30)\n",
        "\n",
        "print(f'{anos}'\" ano(s)\")\n",
        "print(f'{meses}'\" mes(es)\")\n",
        "print(f'{dias}'\" dia(s)\")\n"
      ],
      "metadata": {
        "colab": {
          "base_uri": "https://localhost:8080/"
        },
        "id": "e--MiYbmRGs4",
        "outputId": "cd357604-d428-4126-f853-5278d59c021f"
      },
      "execution_count": null,
      "outputs": [
        {
          "output_type": "stream",
          "name": "stdout",
          "text": [
            "400\n",
            "1 ano(s)\n",
            "1 mes(es)\n",
            "5 dia(s)\n"
          ]
        }
      ]
    },
    {
      "cell_type": "markdown",
      "source": [
        "1021"
      ],
      "metadata": {
        "id": "iypnHWcRUCd7"
      }
    },
    {
      "cell_type": "code",
      "source": [
        "reais, centavos=map(int,input().split('.'))\n",
        "centavos=centavos+reais*100\n",
        "\n",
        "\n",
        "\n",
        "print('NOTAS:')\n",
        "print(f'{centavos//10000} nota(s) de R$ 100.00')\n",
        "centavos=centavos%10000\n",
        "print(f'{centavos//5000} nota(s) de R$ 50.00')\n",
        "centavos=centavos%50000 \n",
        "print(f'{centavos//2000} nota(s) de R$ 20.00')\n",
        "centavos=centavos%2000\n",
        "print(f'{centavos//1000} nota(s) de R$ 10.00')\n",
        "centavos=centavos%1000\n",
        "print(f'{centavos//500} nota(s) de R$ 5.00')\n",
        "centavos=centavos%500\n",
        "print(f'{centavos//200} nota(s) de R$ 2.00')\n",
        "centavos=centavos%200\n",
        "\n",
        "\n",
        "print('MOEDAS:')\n",
        "print(f'{centavos//100} moeda(s) de R$ 1.00')\n",
        "centavos=centavos%100\n",
        "print(f'{centavos//50} moeda(s) de R$ 0.50')\n",
        "centavos=centavos%500\n",
        "print(f'{centavos//25} moeda(s) de R$ 0.25')\n",
        "centavos=centavos%25\n",
        "print(f'{centavos//10} moeda(s) de R$ 0.10')\n",
        "centavos=centavos%10\n",
        "print(f'{centavos//5} moeda(s) de R$ 0.05')\n",
        "centavos=centavos%5\n",
        "print(f'{centavos//1} moeda(s) de R$ 0.01')\n",
        "centavos=centavos%1\n",
        "\n"
      ],
      "metadata": {
        "colab": {
          "base_uri": "https://localhost:8080/",
          "height": 252
        },
        "id": "lc5Rd8_cUD7x",
        "outputId": "47739f0a-61b0-4944-b839-e21ac26de830"
      },
      "execution_count": 10,
      "outputs": [
        {
          "name": "stdout",
          "output_type": "stream",
          "text": [
            "572\n"
          ]
        },
        {
          "output_type": "error",
          "ename": "ValueError",
          "evalue": "ignored",
          "traceback": [
            "\u001b[0;31m---------------------------------------------------------------------------\u001b[0m",
            "\u001b[0;31mValueError\u001b[0m                                Traceback (most recent call last)",
            "\u001b[0;32m<ipython-input-10-5e3582fa301c>\u001b[0m in \u001b[0;36m<cell line: 1>\u001b[0;34m()\u001b[0m\n\u001b[0;32m----> 1\u001b[0;31m \u001b[0mreais\u001b[0m\u001b[0;34m,\u001b[0m \u001b[0mcentavos\u001b[0m\u001b[0;34m=\u001b[0m\u001b[0mmap\u001b[0m\u001b[0;34m(\u001b[0m\u001b[0mint\u001b[0m\u001b[0;34m,\u001b[0m\u001b[0minput\u001b[0m\u001b[0;34m(\u001b[0m\u001b[0;34m)\u001b[0m\u001b[0;34m.\u001b[0m\u001b[0msplit\u001b[0m\u001b[0;34m(\u001b[0m\u001b[0;34m'.'\u001b[0m\u001b[0;34m)\u001b[0m\u001b[0;34m)\u001b[0m\u001b[0;34m\u001b[0m\u001b[0;34m\u001b[0m\u001b[0m\n\u001b[0m\u001b[1;32m      2\u001b[0m \u001b[0mcentavos\u001b[0m\u001b[0;34m=\u001b[0m\u001b[0mcentavos\u001b[0m\u001b[0;34m+\u001b[0m\u001b[0mreais\u001b[0m\u001b[0;34m*\u001b[0m\u001b[0;36m100\u001b[0m\u001b[0;34m\u001b[0m\u001b[0;34m\u001b[0m\u001b[0m\n\u001b[1;32m      3\u001b[0m \u001b[0;34m\u001b[0m\u001b[0m\n\u001b[1;32m      4\u001b[0m \u001b[0;34m\u001b[0m\u001b[0m\n\u001b[1;32m      5\u001b[0m \u001b[0;34m\u001b[0m\u001b[0m\n",
            "\u001b[0;31mValueError\u001b[0m: not enough values to unpack (expected 2, got 1)"
          ]
        }
      ]
    },
    {
      "cell_type": "code",
      "source": [],
      "metadata": {
        "id": "ACP0Web3jfzc"
      },
      "execution_count": null,
      "outputs": []
    },
    {
      "cell_type": "code",
      "source": [],
      "metadata": {
        "id": "fC8vZMNEj5M9"
      },
      "execution_count": null,
      "outputs": []
    },
    {
      "cell_type": "markdown",
      "source": [
        "TABELA"
      ],
      "metadata": {
        "id": "4H6Vlj2qhSAd"
      }
    },
    {
      "cell_type": "code",
      "source": [
        "import pandas as pd \n",
        "import numpy as np\n",
        "\n"
      ],
      "metadata": {
        "id": "K6li7vFuhT1F"
      },
      "execution_count": 9,
      "outputs": []
    },
    {
      "cell_type": "code",
      "source": [],
      "metadata": {
        "id": "O_YPDvauiyA_"
      },
      "execution_count": null,
      "outputs": []
    }
  ],
  "metadata": {
    "colab": {
      "provenance": [],
      "include_colab_link": true
    },
    "kernelspec": {
      "display_name": "Python 3",
      "name": "python3"
    }
  },
  "nbformat": 4,
  "nbformat_minor": 0
}